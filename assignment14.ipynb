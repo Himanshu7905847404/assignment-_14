{
 "cells": [
  {
   "cell_type": "code",
   "execution_count": 1,
   "id": "2d150a19-d053-4f55-992f-37ae60d6e60b",
   "metadata": {},
   "outputs": [],
   "source": [
    "# Solution"
   ]
  },
  {
   "cell_type": "code",
   "execution_count": 2,
   "id": "a427e924-cfa2-4a7c-9be2-a18bdb5bdd16",
   "metadata": {},
   "outputs": [
    {
     "name": "stdout",
     "output_type": "stream",
     "text": [
      "\n",
      "        Multithreading refers to concurrently executing multiple threads by rapidly switching the control of the CPU between threads \n",
      "        (called context switching). \n",
      "        The Python Global Interpreter Lock limits one thread to run at a time even if the machine contains multiple processors.​\n",
      "        \n",
      "        use:\n",
      "        \n",
      "            Python doesn't support multi-threading because Python on the Cpython interpreter does not support \n",
      "            true multi-core execution via multithreading. \n",
      "            However, Python does have a threading library. The GIL does not prevent threading.\n",
      "            \n",
      "            two main advantages: \n",
      "            Multithreading in Python streamlines the efficient utilization of resources \n",
      "            as the threads share the same memory and data space. \n",
      "            It also allows the concurrent appearance of multiple tasks and reduces the response time. \n",
      "            This improves the performance.\n",
      "             \n",
      "\n",
      "        In short multithreading is the way in which you can manage your memory and multiple threads are genreated in the single process\n",
      "\n",
      "        Threading Modules (multithreading.Thread(target=\"\",args=\",\")  is the module to handle threads in python.\n",
      "         \n",
      "         The threading module is a high-level implementation of multithreading used to deploy an application in Python. \n",
      "         To use multithreading, we need to import the threading module in Python Program. \n",
      "         A start() method is used to initiate the activity of a thread. \n"
     ]
    }
   ],
   "source": [
    "# Q1.\n",
    "print('''\n",
    "        Multithreading refers to concurrently executing multiple threads by rapidly switching the control of the CPU between threads \n",
    "        (called context switching). \n",
    "        The Python Global Interpreter Lock limits one thread to run at a time even if the machine contains multiple processors.​\n",
    "        \n",
    "        use:\n",
    "        \n",
    "            Python doesn't support multi-threading because Python on the Cpython interpreter does not support \n",
    "            true multi-core execution via multithreading. \n",
    "            However, Python does have a threading library. The GIL does not prevent threading.\n",
    "            \n",
    "            two main advantages: \n",
    "            Multithreading in Python streamlines the efficient utilization of resources \n",
    "            as the threads share the same memory and data space. \n",
    "            It also allows the concurrent appearance of multiple tasks and reduces the response time. \n",
    "            This improves the performance.\n",
    "             ''')\n",
    "\n",
    "print('''\n",
    "        In short multithreading is the way in which you can manage your memory and multiple threads are genreated in the single process''')\n",
    "\n",
    "print('''\n",
    "        Threading Modules (threading.Thread(target=\"\",args=\",\")  is the module to handle threads in python.\n",
    "         \n",
    "         The threading module is a high-level implementation of multithreading used to deploy an application in Python. \n",
    "         To use multithreading, we need to import the threading module in Python Program. \n",
    "         A start() method is used to initiate the activity of a thread. ''')\n",
    "        \n",
    "\n"
   ]
  },
  {
   "cell_type": "code",
   "execution_count": 3,
   "id": "7fda43e1-80c0-44b5-a5e1-058a688042c1",
   "metadata": {},
   "outputs": [
    {
     "name": "stdout",
     "output_type": "stream",
     "text": [
      "\n",
      "        threading module is used for creating, controlling and managing threads in python. \n",
      "\n",
      "        \n",
      "        threading.activeCount() − Returns the number of thread objects that are active.\n",
      "\n",
      "        threading.currentThread() − Returns the number of thread objects in the caller's thread control.\n",
      "\n",
      "        threading.enumerate() − Returns a list of all thread objects that are currently active.\n"
     ]
    }
   ],
   "source": [
    "# Q2.\n",
    "\n",
    "print('''\n",
    "        threading module is used for creating, controlling and managing threads in python. ''')\n",
    "print('''\n",
    "        \n",
    "        threading.activeCount() − Returns the number of thread objects that are active.\n",
    "\n",
    "        threading.currentThread() − Returns the number of thread objects in the caller's thread control.\n",
    "\n",
    "        threading.enumerate() − Returns a list of all thread objects that are currently active.''')"
   ]
  },
  {
   "cell_type": "code",
   "execution_count": 12,
   "id": "09629da9-f9f8-405f-af62-7ab727e8db09",
   "metadata": {},
   "outputs": [
    {
     "name": "stdout",
     "output_type": "stream",
     "text": [
      "\n",
      "        run() − The run() method is the entry point for a thread.\n",
      "\n",
      "        start() − The start() method starts a thread by calling the run method.\n",
      "\n",
      "        join([time]) − The join() waits for threads to terminate.\n",
      "\n",
      "        isAlive() − The isAlive() method checks whether a thread is still executing. \n"
     ]
    }
   ],
   "source": [
    "#Q3.\n",
    "print('''\n",
    "        run() − The run() method is the entry point for a thread.\n",
    "\n",
    "        start() − The start() method starts a thread by calling the run method.\n",
    "\n",
    "        join([time]) − The join() waits for threads to terminate.\n",
    "\n",
    "        isAlive() − The isAlive() method checks whether a thread is still executing. ''')"
   ]
  },
  {
   "cell_type": "code",
   "execution_count": 24,
   "id": "0b0ae422-0f37-44df-b195-e9a1c7a60dc2",
   "metadata": {},
   "outputs": [
    {
     "name": "stdout",
     "output_type": "stream",
     "text": [
      "Sqaure of the list\n",
      "\n",
      "1 4 9 16 25 \n",
      "\n",
      "Cube of the list\n",
      "\n",
      "1 8 27 64 125 "
     ]
    }
   ],
   "source": [
    "# Q4.\n",
    "import threading\n",
    "\n",
    "def list_of_square(n):\n",
    "    n=n**2\n",
    "    print(n,end=\" \")\n",
    "def list_of_cube(n):\n",
    "    n=n**3\n",
    "    print(n,end=\" \")\n",
    "\n",
    "if __name__=='__main__':\n",
    "    l=[1,2,3,4,5]\n",
    "    m1=[threading.Thread(target=list_of_square ,args=(i,)) for i in l]\n",
    "    m2=[threading.Thread(target=list_of_cube ,args=(i,)) for i in l]\n",
    "    print(\"Sqaure of the list\\n\")\n",
    "    for k in m1:\n",
    "        k.start()\n",
    "    print(\"\\n\\nCube of the list\\n\")\n",
    "    for t in m2:\n",
    "        t.start()\n",
    "    "
   ]
  },
  {
   "cell_type": "code",
   "execution_count": 25,
   "id": "96e01c75-1283-4d8d-9726-7e64aeb98df9",
   "metadata": {},
   "outputs": [
    {
     "name": "stdout",
     "output_type": "stream",
     "text": [
      "\n",
      "            ADVANTAGES OF MULTI-THREADING:\n",
      "       1- Effective utilization of resources\n",
      "       2- More responsive\n",
      "       3- Resource sharing makes it more economical\n",
      "       4- Effective use of Multiprocessor architecture due to parallelism\n",
      "       5- Saves time\n",
      "       6- Threads (since part of the same process) communicate with each other more easily than if they were separate processes\n",
      "       7- They do not require much memory overhead\n",
      "       8- Multi-threaded servers and interactive GUIs use multithreading exclusively.\n",
      "       \n",
      "            DISADVANTAGES OF MULTI-THREADING:\n",
      "       1- Increases the complexity of the program.\n",
      "       2- Synchronization of shared resources (objects, data) is necessary.\n",
      "       3- Difficult to debug unpredictable results\n",
      "       4- Constructing and synchronizing threads is CPU/memory intensive. \n"
     ]
    }
   ],
   "source": [
    "#Q5.\n",
    "\n",
    "print('''\n",
    "            ADVANTAGES OF MULTI-THREADING:\n",
    "       1- Effective utilization of resources\n",
    "       2- More responsive\n",
    "       3- Resource sharing makes it more economical\n",
    "       4- Effective use of Multiprocessor architecture due to parallelism\n",
    "       5- Saves time\n",
    "       6- Threads (since part of the same process) communicate with each other more easily than if they were separate processes\n",
    "       7- They do not require much memory overhead\n",
    "       8- Multi-threaded servers and interactive GUIs use multithreading exclusively.\n",
    "       \n",
    "            DISADVANTAGES OF MULTI-THREADING:\n",
    "       1- Increases the complexity of the program.\n",
    "       2- Synchronization of shared resources (objects, data) is necessary.\n",
    "       3- Difficult to debug unpredictable results\n",
    "       4- Constructing and synchronizing threads is CPU/memory intensive. ''')\n",
    "       "
   ]
  },
  {
   "cell_type": "code",
   "execution_count": null,
   "id": "6a101a3a-d6c6-4d36-ae46-dc0d6cc0ed6d",
   "metadata": {},
   "outputs": [],
   "source": [
    "#Q6.\n",
    "\n",
    "print('''\n",
    "    What is a Race Condition?\n",
    "    When two processes are competing with each other causing data corruption.\n",
    "    \n",
    "    For example, if two processes/threads are trying to execute the following conditions simultaneously, they cause data corruption:\n",
    "\n",
    "            Thread 1:\n",
    "            total = num1 + num2\n",
    "\n",
    "            Thread 2:\n",
    "            total = num1 - num2\n",
    "\n",
    "    It is very common for the race conditions to go unnoticed during testing even after multiple tests and code reviews.\n",
    "    But in production, there would be a lot of processes and threads working parallelly and compete for the same resources, \n",
    "    and this problem would occur.\n",
    "    \n",
    "    When two processes are waiting for each other directly or indirectly, it is called deadlock.\n",
    "\n",
    "This usually occurs when two processes are waiting for shared resources acquired by others. For example, If thread T1 acquired resource R1 and it also needs resource R2 for it to accomplish its task. But the resource R2 is acquired by thread T2 which is waiting for resource R1(which is acquired by T1).. Neither of them will be able to accomplish its task, as they keep waiting for the other resources they need.\n",
    "    "
   ]
  }
 ],
 "metadata": {
  "kernelspec": {
   "display_name": "Python 3 (ipykernel)",
   "language": "python",
   "name": "python3"
  },
  "language_info": {
   "codemirror_mode": {
    "name": "ipython",
    "version": 3
   },
   "file_extension": ".py",
   "mimetype": "text/x-python",
   "name": "python",
   "nbconvert_exporter": "python",
   "pygments_lexer": "ipython3",
   "version": "3.10.8"
  }
 },
 "nbformat": 4,
 "nbformat_minor": 5
}
